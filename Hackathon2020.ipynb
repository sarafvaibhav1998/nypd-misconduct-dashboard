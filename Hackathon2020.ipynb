{
  "nbformat": 4,
  "nbformat_minor": 0,
  "metadata": {
    "colab": {
      "name": "Hackathon2020.ipynb",
      "provenance": [],
      "collapsed_sections": []
    },
    "kernelspec": {
      "name": "python3",
      "display_name": "Python 3"
    }
  },
  "cells": [
    {
      "cell_type": "code",
      "metadata": {
        "id": "Jjc9oH2wnnvu",
        "colab_type": "code",
        "colab": {
          "base_uri": "https://localhost:8080/",
          "height": 122
        },
        "outputId": "19abec7c-174b-45c5-deae-211b85251064"
      },
      "source": [
        "from google.colab import drive\n",
        "drive.mount('/content/drive')"
      ],
      "execution_count": 1,
      "outputs": [
        {
          "output_type": "stream",
          "text": [
            "Go to this URL in a browser: https://accounts.google.com/o/oauth2/auth?client_id=947318989803-6bn6qk8qdgf4n4g3pfee6491hc0brc4i.apps.googleusercontent.com&redirect_uri=urn%3aietf%3awg%3aoauth%3a2.0%3aoob&scope=email%20https%3a%2f%2fwww.googleapis.com%2fauth%2fdocs.test%20https%3a%2f%2fwww.googleapis.com%2fauth%2fdrive%20https%3a%2f%2fwww.googleapis.com%2fauth%2fdrive.photos.readonly%20https%3a%2f%2fwww.googleapis.com%2fauth%2fpeopleapi.readonly&response_type=code\n",
            "\n",
            "Enter your authorization code:\n",
            "··········\n",
            "Mounted at /content/drive\n"
          ],
          "name": "stdout"
        }
      ]
    },
    {
      "cell_type": "code",
      "metadata": {
        "id": "qnsZbNIOjqik",
        "colab_type": "code",
        "colab": {
          "base_uri": "https://localhost:8080/",
          "height": 51
        },
        "outputId": "b110a3c8-0cd0-4fd6-b255-8490733d37db"
      },
      "source": [
        "import pandas as pd\n",
        "import numpy as np\n",
        "import matplotlib.pyplot as plt\n",
        "import seaborn as sns\n",
        "import time\n",
        "import os\n",
        "from tqdm import tqdm\n",
        "from sklearn.model_selection import train_test_split\n",
        "from sklearn.metrics import mean_squared_error\n",
        "from sklearn.preprocessing import StandardScaler, MinMaxScaler"
      ],
      "execution_count": 2,
      "outputs": [
        {
          "output_type": "stream",
          "text": [
            "/usr/local/lib/python3.6/dist-packages/statsmodels/tools/_testing.py:19: FutureWarning: pandas.util.testing is deprecated. Use the functions in the public API at pandas.testing instead.\n",
            "  import pandas.util.testing as tm\n"
          ],
          "name": "stderr"
        }
      ]
    },
    {
      "cell_type": "code",
      "metadata": {
        "id": "TRIZ4j0uoGHY",
        "colab_type": "code",
        "colab": {}
      },
      "source": [
        "allegations = pd.read_csv('/content/drive/My Drive/NYPD-Misconduct-Complaint-Database/allegations_20200726939.csv')"
      ],
      "execution_count": 3,
      "outputs": []
    },
    {
      "cell_type": "code",
      "metadata": {
        "id": "45F5EINws9ra",
        "colab_type": "code",
        "colab": {
          "base_uri": "https://localhost:8080/",
          "height": 377
        },
        "outputId": "d5194393-522d-4668-d924-e341d2262890"
      },
      "source": [
        "allegations.head()"
      ],
      "execution_count": 5,
      "outputs": [
        {
          "output_type": "execute_result",
          "data": {
            "text/html": [
              "<div>\n",
              "<style scoped>\n",
              "    .dataframe tbody tr th:only-of-type {\n",
              "        vertical-align: middle;\n",
              "    }\n",
              "\n",
              "    .dataframe tbody tr th {\n",
              "        vertical-align: top;\n",
              "    }\n",
              "\n",
              "    .dataframe thead th {\n",
              "        text-align: right;\n",
              "    }\n",
              "</style>\n",
              "<table border=\"1\" class=\"dataframe\">\n",
              "  <thead>\n",
              "    <tr style=\"text-align: right;\">\n",
              "      <th></th>\n",
              "      <th>unique_mos_id</th>\n",
              "      <th>first_name</th>\n",
              "      <th>last_name</th>\n",
              "      <th>command_now</th>\n",
              "      <th>complaint_id</th>\n",
              "      <th>month_received</th>\n",
              "      <th>year_received</th>\n",
              "      <th>month_closed</th>\n",
              "      <th>year_closed</th>\n",
              "      <th>command_at_incident</th>\n",
              "      <th>rank_abbrev_incident</th>\n",
              "      <th>rank_abbrev_now</th>\n",
              "      <th>rank_now</th>\n",
              "      <th>rank_incident</th>\n",
              "      <th>mos_ethnicity</th>\n",
              "      <th>mos_gender</th>\n",
              "      <th>mos_age_incident</th>\n",
              "      <th>complainant_ethnicity</th>\n",
              "      <th>complainant_gender</th>\n",
              "      <th>complainant_age_incident</th>\n",
              "      <th>fado_type</th>\n",
              "      <th>allegation</th>\n",
              "      <th>precinct</th>\n",
              "      <th>contact_reason</th>\n",
              "      <th>outcome_description</th>\n",
              "      <th>board_disposition</th>\n",
              "    </tr>\n",
              "  </thead>\n",
              "  <tbody>\n",
              "    <tr>\n",
              "      <th>0</th>\n",
              "      <td>10004</td>\n",
              "      <td>Jonathan</td>\n",
              "      <td>Ruiz</td>\n",
              "      <td>078 PCT</td>\n",
              "      <td>42835</td>\n",
              "      <td>7</td>\n",
              "      <td>2019</td>\n",
              "      <td>5</td>\n",
              "      <td>2020</td>\n",
              "      <td>078 PCT</td>\n",
              "      <td>POM</td>\n",
              "      <td>POM</td>\n",
              "      <td>Police Officer</td>\n",
              "      <td>Police Officer</td>\n",
              "      <td>Hispanic</td>\n",
              "      <td>M</td>\n",
              "      <td>32</td>\n",
              "      <td>Black</td>\n",
              "      <td>Female</td>\n",
              "      <td>38.0</td>\n",
              "      <td>Abuse of Authority</td>\n",
              "      <td>Failure to provide RTKA card</td>\n",
              "      <td>78.0</td>\n",
              "      <td>Report-domestic dispute</td>\n",
              "      <td>No arrest made or summons issued</td>\n",
              "      <td>Substantiated (Command Lvl Instructions)</td>\n",
              "    </tr>\n",
              "    <tr>\n",
              "      <th>1</th>\n",
              "      <td>10007</td>\n",
              "      <td>John</td>\n",
              "      <td>Sears</td>\n",
              "      <td>078 PCT</td>\n",
              "      <td>24601</td>\n",
              "      <td>11</td>\n",
              "      <td>2011</td>\n",
              "      <td>8</td>\n",
              "      <td>2012</td>\n",
              "      <td>PBBS</td>\n",
              "      <td>POM</td>\n",
              "      <td>POM</td>\n",
              "      <td>Police Officer</td>\n",
              "      <td>Police Officer</td>\n",
              "      <td>White</td>\n",
              "      <td>M</td>\n",
              "      <td>24</td>\n",
              "      <td>Black</td>\n",
              "      <td>Male</td>\n",
              "      <td>26.0</td>\n",
              "      <td>Discourtesy</td>\n",
              "      <td>Action</td>\n",
              "      <td>67.0</td>\n",
              "      <td>Moving violation</td>\n",
              "      <td>Moving violation summons issued</td>\n",
              "      <td>Substantiated (Charges)</td>\n",
              "    </tr>\n",
              "    <tr>\n",
              "      <th>2</th>\n",
              "      <td>10007</td>\n",
              "      <td>John</td>\n",
              "      <td>Sears</td>\n",
              "      <td>078 PCT</td>\n",
              "      <td>24601</td>\n",
              "      <td>11</td>\n",
              "      <td>2011</td>\n",
              "      <td>8</td>\n",
              "      <td>2012</td>\n",
              "      <td>PBBS</td>\n",
              "      <td>POM</td>\n",
              "      <td>POM</td>\n",
              "      <td>Police Officer</td>\n",
              "      <td>Police Officer</td>\n",
              "      <td>White</td>\n",
              "      <td>M</td>\n",
              "      <td>24</td>\n",
              "      <td>Black</td>\n",
              "      <td>Male</td>\n",
              "      <td>26.0</td>\n",
              "      <td>Offensive Language</td>\n",
              "      <td>Race</td>\n",
              "      <td>67.0</td>\n",
              "      <td>Moving violation</td>\n",
              "      <td>Moving violation summons issued</td>\n",
              "      <td>Substantiated (Charges)</td>\n",
              "    </tr>\n",
              "    <tr>\n",
              "      <th>3</th>\n",
              "      <td>10007</td>\n",
              "      <td>John</td>\n",
              "      <td>Sears</td>\n",
              "      <td>078 PCT</td>\n",
              "      <td>26146</td>\n",
              "      <td>7</td>\n",
              "      <td>2012</td>\n",
              "      <td>9</td>\n",
              "      <td>2013</td>\n",
              "      <td>PBBS</td>\n",
              "      <td>POM</td>\n",
              "      <td>POM</td>\n",
              "      <td>Police Officer</td>\n",
              "      <td>Police Officer</td>\n",
              "      <td>White</td>\n",
              "      <td>M</td>\n",
              "      <td>25</td>\n",
              "      <td>Black</td>\n",
              "      <td>Male</td>\n",
              "      <td>45.0</td>\n",
              "      <td>Abuse of Authority</td>\n",
              "      <td>Question</td>\n",
              "      <td>67.0</td>\n",
              "      <td>PD suspected C/V of violation/crime - street</td>\n",
              "      <td>No arrest made or summons issued</td>\n",
              "      <td>Substantiated (Charges)</td>\n",
              "    </tr>\n",
              "    <tr>\n",
              "      <th>4</th>\n",
              "      <td>10009</td>\n",
              "      <td>Noemi</td>\n",
              "      <td>Sierra</td>\n",
              "      <td>078 PCT</td>\n",
              "      <td>40253</td>\n",
              "      <td>8</td>\n",
              "      <td>2018</td>\n",
              "      <td>2</td>\n",
              "      <td>2019</td>\n",
              "      <td>078 PCT</td>\n",
              "      <td>POF</td>\n",
              "      <td>POF</td>\n",
              "      <td>Police Officer</td>\n",
              "      <td>Police Officer</td>\n",
              "      <td>Hispanic</td>\n",
              "      <td>F</td>\n",
              "      <td>39</td>\n",
              "      <td>NaN</td>\n",
              "      <td>NaN</td>\n",
              "      <td>16.0</td>\n",
              "      <td>Force</td>\n",
              "      <td>Physical force</td>\n",
              "      <td>67.0</td>\n",
              "      <td>Report-dispute</td>\n",
              "      <td>Arrest - other violation/crime</td>\n",
              "      <td>Substantiated (Command Discipline A)</td>\n",
              "    </tr>\n",
              "  </tbody>\n",
              "</table>\n",
              "</div>"
            ],
            "text/plain": [
              "   unique_mos_id  ...                         board_disposition\n",
              "0          10004  ...  Substantiated (Command Lvl Instructions)\n",
              "1          10007  ...                   Substantiated (Charges)\n",
              "2          10007  ...                   Substantiated (Charges)\n",
              "3          10007  ...                   Substantiated (Charges)\n",
              "4          10009  ...      Substantiated (Command Discipline A)\n",
              "\n",
              "[5 rows x 26 columns]"
            ]
          },
          "metadata": {
            "tags": []
          },
          "execution_count": 5
        }
      ]
    },
    {
      "cell_type": "code",
      "metadata": {
        "id": "WEg0bq4k68In",
        "colab_type": "code",
        "colab": {
          "base_uri": "https://localhost:8080/",
          "height": 265
        },
        "outputId": "3945d9d0-7f4b-45b9-82be-f9471ed7e862"
      },
      "source": [
        "plt.hist([allegations.unique_mos_id.value_counts()], bins = 7)\n",
        "plt.show()"
      ],
      "execution_count": 6,
      "outputs": [
        {
          "output_type": "display_data",
          "data": {
            "image/png": "[encoded data removed]",
            "text/plain": [
              "<Figure size 432x288 with 1 Axes>"
            ]
          },
          "metadata": {
            "tags": [],
            "needs_background": "light"
          }
        }
      ]
    },
    {
      "cell_type": "code",
      "metadata": {
        "id": "K0YIOlwO72_6",
        "colab_type": "code",
        "colab": {}
      },
      "source": [
        "columns = ['month_received', 'year_received', 'month_closed', 'year_closed', 'rank_incident', 'mos_ethnicity', 'mos_gender', 'mos_age_incident', 'complainant_ethnicity', 'complainant_gender', 'complainant_age_incident', 'fado_type', 'precinct']"
      ],
      "execution_count": 7,
      "outputs": []
    },
    {
      "cell_type": "code",
      "metadata": {
        "id": "VsPHZVnrEccw",
        "colab_type": "code",
        "colab": {}
      },
      "source": [
        "ml_data = allegations[columns]"
      ],
      "execution_count": 8,
      "outputs": []
    },
    {
      "cell_type": "code",
      "metadata": {
        "id": "Ck1tyDmnEhEH",
        "colab_type": "code",
        "colab": {
          "base_uri": "https://localhost:8080/",
          "height": 204
        },
        "outputId": "37046da8-7684-4852-a801-700d0396d192"
      },
      "source": [
        "ml_data.head()"
      ],
      "execution_count": 9,
      "outputs": [
        {
          "output_type": "execute_result",
          "data": {
            "text/html": [
              "<div>\n",
              "<style scoped>\n",
              "    .dataframe tbody tr th:only-of-type {\n",
              "        vertical-align: middle;\n",
              "    }\n",
              "\n",
              "    .dataframe tbody tr th {\n",
              "        vertical-align: top;\n",
              "    }\n",
              "\n",
              "    .dataframe thead th {\n",
              "        text-align: right;\n",
              "    }\n",
              "</style>\n",
              "<table border=\"1\" class=\"dataframe\">\n",
              "  <thead>\n",
              "    <tr style=\"text-align: right;\">\n",
              "      <th></th>\n",
              "      <th>month_received</th>\n",
              "      <th>year_received</th>\n",
              "      <th>month_closed</th>\n",
              "      <th>year_closed</th>\n",
              "      <th>rank_incident</th>\n",
              "      <th>mos_ethnicity</th>\n",
              "      <th>mos_gender</th>\n",
              "      <th>mos_age_incident</th>\n",
              "      <th>complainant_ethnicity</th>\n",
              "      <th>complainant_gender</th>\n",
              "      <th>complainant_age_incident</th>\n",
              "      <th>fado_type</th>\n",
              "      <th>precinct</th>\n",
              "    </tr>\n",
              "  </thead>\n",
              "  <tbody>\n",
              "    <tr>\n",
              "      <th>0</th>\n",
              "      <td>7</td>\n",
              "      <td>2019</td>\n",
              "      <td>5</td>\n",
              "      <td>2020</td>\n",
              "      <td>Police Officer</td>\n",
              "      <td>Hispanic</td>\n",
              "      <td>M</td>\n",
              "      <td>32</td>\n",
              "      <td>Black</td>\n",
              "      <td>Female</td>\n",
              "      <td>38.0</td>\n",
              "      <td>Abuse of Authority</td>\n",
              "      <td>78.0</td>\n",
              "    </tr>\n",
              "    <tr>\n",
              "      <th>1</th>\n",
              "      <td>11</td>\n",
              "      <td>2011</td>\n",
              "      <td>8</td>\n",
              "      <td>2012</td>\n",
              "      <td>Police Officer</td>\n",
              "      <td>White</td>\n",
              "      <td>M</td>\n",
              "      <td>24</td>\n",
              "      <td>Black</td>\n",
              "      <td>Male</td>\n",
              "      <td>26.0</td>\n",
              "      <td>Discourtesy</td>\n",
              "      <td>67.0</td>\n",
              "    </tr>\n",
              "    <tr>\n",
              "      <th>2</th>\n",
              "      <td>11</td>\n",
              "      <td>2011</td>\n",
              "      <td>8</td>\n",
              "      <td>2012</td>\n",
              "      <td>Police Officer</td>\n",
              "      <td>White</td>\n",
              "      <td>M</td>\n",
              "      <td>24</td>\n",
              "      <td>Black</td>\n",
              "      <td>Male</td>\n",
              "      <td>26.0</td>\n",
              "      <td>Offensive Language</td>\n",
              "      <td>67.0</td>\n",
              "    </tr>\n",
              "    <tr>\n",
              "      <th>3</th>\n",
              "      <td>7</td>\n",
              "      <td>2012</td>\n",
              "      <td>9</td>\n",
              "      <td>2013</td>\n",
              "      <td>Police Officer</td>\n",
              "      <td>White</td>\n",
              "      <td>M</td>\n",
              "      <td>25</td>\n",
              "      <td>Black</td>\n",
              "      <td>Male</td>\n",
              "      <td>45.0</td>\n",
              "      <td>Abuse of Authority</td>\n",
              "      <td>67.0</td>\n",
              "    </tr>\n",
              "    <tr>\n",
              "      <th>4</th>\n",
              "      <td>8</td>\n",
              "      <td>2018</td>\n",
              "      <td>2</td>\n",
              "      <td>2019</td>\n",
              "      <td>Police Officer</td>\n",
              "      <td>Hispanic</td>\n",
              "      <td>F</td>\n",
              "      <td>39</td>\n",
              "      <td>NaN</td>\n",
              "      <td>NaN</td>\n",
              "      <td>16.0</td>\n",
              "      <td>Force</td>\n",
              "      <td>67.0</td>\n",
              "    </tr>\n",
              "  </tbody>\n",
              "</table>\n",
              "</div>"
            ],
            "text/plain": [
              "   month_received  year_received  ...           fado_type  precinct\n",
              "0               7           2019  ...  Abuse of Authority      78.0\n",
              "1              11           2011  ...         Discourtesy      67.0\n",
              "2              11           2011  ...  Offensive Language      67.0\n",
              "3               7           2012  ...  Abuse of Authority      67.0\n",
              "4               8           2018  ...               Force      67.0\n",
              "\n",
              "[5 rows x 13 columns]"
            ]
          },
          "metadata": {
            "tags": []
          },
          "execution_count": 9
        }
      ]
    },
    {
      "cell_type": "code",
      "metadata": {
        "id": "Ovl-g5UkE1h7",
        "colab_type": "code",
        "colab": {
          "base_uri": "https://localhost:8080/",
          "height": 34
        },
        "outputId": "f99a25b8-96dc-426b-aeef-c3b0d494bb51"
      },
      "source": [
        "ml_data.shape"
      ],
      "execution_count": 10,
      "outputs": [
        {
          "output_type": "execute_result",
          "data": {
            "text/plain": [
              "(33358, 13)"
            ]
          },
          "metadata": {
            "tags": []
          },
          "execution_count": 10
        }
      ]
    },
    {
      "cell_type": "code",
      "metadata": {
        "id": "7AaIjdS9ElY5",
        "colab_type": "code",
        "colab": {
          "base_uri": "https://localhost:8080/",
          "height": 255
        },
        "outputId": "22cacce3-162d-40ac-c11f-ca9f6332fbe1"
      },
      "source": [
        "ml_data.isnull().sum()"
      ],
      "execution_count": 11,
      "outputs": [
        {
          "output_type": "execute_result",
          "data": {
            "text/plain": [
              "month_received                 0\n",
              "year_received                  0\n",
              "month_closed                   0\n",
              "year_closed                    0\n",
              "rank_incident                  0\n",
              "mos_ethnicity                  0\n",
              "mos_gender                     0\n",
              "mos_age_incident               0\n",
              "complainant_ethnicity       4464\n",
              "complainant_gender          4195\n",
              "complainant_age_incident    4812\n",
              "fado_type                      0\n",
              "precinct                      24\n",
              "dtype: int64"
            ]
          },
          "metadata": {
            "tags": []
          },
          "execution_count": 11
        }
      ]
    },
    {
      "cell_type": "code",
      "metadata": {
        "id": "LKBXe-A3Eouj",
        "colab_type": "code",
        "colab": {}
      },
      "source": [
        "ml_data = ml_data.dropna()"
      ],
      "execution_count": 12,
      "outputs": []
    },
    {
      "cell_type": "code",
      "metadata": {
        "id": "YO-EVI3glhM4",
        "colab_type": "code",
        "colab": {
          "base_uri": "https://localhost:8080/",
          "height": 34
        },
        "outputId": "09e50b8e-2763-4c9c-a4a5-ccd6ea38184a"
      },
      "source": [
        "ml_data.shape"
      ],
      "execution_count": 13,
      "outputs": [
        {
          "output_type": "execute_result",
          "data": {
            "text/plain": [
              "(28299, 13)"
            ]
          },
          "metadata": {
            "tags": []
          },
          "execution_count": 13
        }
      ]
    },
    {
      "cell_type": "code",
      "metadata": {
        "id": "KPtP58ihliVA",
        "colab_type": "code",
        "colab": {
          "base_uri": "https://localhost:8080/",
          "height": 204
        },
        "outputId": "842100c8-ab37-42f8-fbae-c63fad328475"
      },
      "source": [
        "ml_data.head()"
      ],
      "execution_count": 14,
      "outputs": [
        {
          "output_type": "execute_result",
          "data": {
            "text/html": [
              "<div>\n",
              "<style scoped>\n",
              "    .dataframe tbody tr th:only-of-type {\n",
              "        vertical-align: middle;\n",
              "    }\n",
              "\n",
              "    .dataframe tbody tr th {\n",
              "        vertical-align: top;\n",
              "    }\n",
              "\n",
              "    .dataframe thead th {\n",
              "        text-align: right;\n",
              "    }\n",
              "</style>\n",
              "<table border=\"1\" class=\"dataframe\">\n",
              "  <thead>\n",
              "    <tr style=\"text-align: right;\">\n",
              "      <th></th>\n",
              "      <th>month_received</th>\n",
              "      <th>year_received</th>\n",
              "      <th>month_closed</th>\n",
              "      <th>year_closed</th>\n",
              "      <th>rank_incident</th>\n",
              "      <th>mos_ethnicity</th>\n",
              "      <th>mos_gender</th>\n",
              "      <th>mos_age_incident</th>\n",
              "      <th>complainant_ethnicity</th>\n",
              "      <th>complainant_gender</th>\n",
              "      <th>complainant_age_incident</th>\n",
              "      <th>fado_type</th>\n",
              "      <th>precinct</th>\n",
              "    </tr>\n",
              "  </thead>\n",
              "  <tbody>\n",
              "    <tr>\n",
              "      <th>0</th>\n",
              "      <td>7</td>\n",
              "      <td>2019</td>\n",
              "      <td>5</td>\n",
              "      <td>2020</td>\n",
              "      <td>Police Officer</td>\n",
              "      <td>Hispanic</td>\n",
              "      <td>M</td>\n",
              "      <td>32</td>\n",
              "      <td>Black</td>\n",
              "      <td>Female</td>\n",
              "      <td>38.0</td>\n",
              "      <td>Abuse of Authority</td>\n",
              "      <td>78.0</td>\n",
              "    </tr>\n",
              "    <tr>\n",
              "      <th>1</th>\n",
              "      <td>11</td>\n",
              "      <td>2011</td>\n",
              "      <td>8</td>\n",
              "      <td>2012</td>\n",
              "      <td>Police Officer</td>\n",
              "      <td>White</td>\n",
              "      <td>M</td>\n",
              "      <td>24</td>\n",
              "      <td>Black</td>\n",
              "      <td>Male</td>\n",
              "      <td>26.0</td>\n",
              "      <td>Discourtesy</td>\n",
              "      <td>67.0</td>\n",
              "    </tr>\n",
              "    <tr>\n",
              "      <th>2</th>\n",
              "      <td>11</td>\n",
              "      <td>2011</td>\n",
              "      <td>8</td>\n",
              "      <td>2012</td>\n",
              "      <td>Police Officer</td>\n",
              "      <td>White</td>\n",
              "      <td>M</td>\n",
              "      <td>24</td>\n",
              "      <td>Black</td>\n",
              "      <td>Male</td>\n",
              "      <td>26.0</td>\n",
              "      <td>Offensive Language</td>\n",
              "      <td>67.0</td>\n",
              "    </tr>\n",
              "    <tr>\n",
              "      <th>3</th>\n",
              "      <td>7</td>\n",
              "      <td>2012</td>\n",
              "      <td>9</td>\n",
              "      <td>2013</td>\n",
              "      <td>Police Officer</td>\n",
              "      <td>White</td>\n",
              "      <td>M</td>\n",
              "      <td>25</td>\n",
              "      <td>Black</td>\n",
              "      <td>Male</td>\n",
              "      <td>45.0</td>\n",
              "      <td>Abuse of Authority</td>\n",
              "      <td>67.0</td>\n",
              "    </tr>\n",
              "    <tr>\n",
              "      <th>5</th>\n",
              "      <td>5</td>\n",
              "      <td>2017</td>\n",
              "      <td>10</td>\n",
              "      <td>2017</td>\n",
              "      <td>Sergeant</td>\n",
              "      <td>Black</td>\n",
              "      <td>F</td>\n",
              "      <td>50</td>\n",
              "      <td>White</td>\n",
              "      <td>Male</td>\n",
              "      <td>31.0</td>\n",
              "      <td>Abuse of Authority</td>\n",
              "      <td>78.0</td>\n",
              "    </tr>\n",
              "  </tbody>\n",
              "</table>\n",
              "</div>"
            ],
            "text/plain": [
              "   month_received  year_received  ...           fado_type  precinct\n",
              "0               7           2019  ...  Abuse of Authority      78.0\n",
              "1              11           2011  ...         Discourtesy      67.0\n",
              "2              11           2011  ...  Offensive Language      67.0\n",
              "3               7           2012  ...  Abuse of Authority      67.0\n",
              "5               5           2017  ...  Abuse of Authority      78.0\n",
              "\n",
              "[5 rows x 13 columns]"
            ]
          },
          "metadata": {
            "tags": []
          },
          "execution_count": 14
        }
      ]
    },
    {
      "cell_type": "code",
      "metadata": {
        "id": "N-ERs2lDlkTD",
        "colab_type": "code",
        "colab": {}
      },
      "source": [
        "ml_data = ml_data.assign(Total_Months = (ml_data.year_closed - ml_data.year_received) * 12 + (ml_data.month_closed - ml_data.month_received))"
      ],
      "execution_count": 15,
      "outputs": []
    },
    {
      "cell_type": "code",
      "metadata": {
        "id": "B_SfycKvmNXF",
        "colab_type": "code",
        "colab": {}
      },
      "source": [
        "ml_data = ml_data.drop(['month_received', 'year_received', 'month_closed', 'year_closed'], axis = 1)"
      ],
      "execution_count": 16,
      "outputs": []
    },
    {
      "cell_type": "code",
      "metadata": {
        "id": "5TKF8Y5Nmd3J",
        "colab_type": "code",
        "colab": {
          "base_uri": "https://localhost:8080/",
          "height": 204
        },
        "outputId": "25160cb9-72c9-4774-b094-b9b45b35b72e"
      },
      "source": [
        "ml_data.head()"
      ],
      "execution_count": 17,
      "outputs": [
        {
          "output_type": "execute_result",
          "data": {
            "text/html": [
              "<div>\n",
              "<style scoped>\n",
              "    .dataframe tbody tr th:only-of-type {\n",
              "        vertical-align: middle;\n",
              "    }\n",
              "\n",
              "    .dataframe tbody tr th {\n",
              "        vertical-align: top;\n",
              "    }\n",
              "\n",
              "    .dataframe thead th {\n",
              "        text-align: right;\n",
              "    }\n",
              "</style>\n",
              "<table border=\"1\" class=\"dataframe\">\n",
              "  <thead>\n",
              "    <tr style=\"text-align: right;\">\n",
              "      <th></th>\n",
              "      <th>rank_incident</th>\n",
              "      <th>mos_ethnicity</th>\n",
              "      <th>mos_gender</th>\n",
              "      <th>mos_age_incident</th>\n",
              "      <th>complainant_ethnicity</th>\n",
              "      <th>complainant_gender</th>\n",
              "      <th>complainant_age_incident</th>\n",
              "      <th>fado_type</th>\n",
              "      <th>precinct</th>\n",
              "      <th>Total_Months</th>\n",
              "    </tr>\n",
              "  </thead>\n",
              "  <tbody>\n",
              "    <tr>\n",
              "      <th>0</th>\n",
              "      <td>Police Officer</td>\n",
              "      <td>Hispanic</td>\n",
              "      <td>M</td>\n",
              "      <td>32</td>\n",
              "      <td>Black</td>\n",
              "      <td>Female</td>\n",
              "      <td>38.0</td>\n",
              "      <td>Abuse of Authority</td>\n",
              "      <td>78.0</td>\n",
              "      <td>10</td>\n",
              "    </tr>\n",
              "    <tr>\n",
              "      <th>1</th>\n",
              "      <td>Police Officer</td>\n",
              "      <td>White</td>\n",
              "      <td>M</td>\n",
              "      <td>24</td>\n",
              "      <td>Black</td>\n",
              "      <td>Male</td>\n",
              "      <td>26.0</td>\n",
              "      <td>Discourtesy</td>\n",
              "      <td>67.0</td>\n",
              "      <td>9</td>\n",
              "    </tr>\n",
              "    <tr>\n",
              "      <th>2</th>\n",
              "      <td>Police Officer</td>\n",
              "      <td>White</td>\n",
              "      <td>M</td>\n",
              "      <td>24</td>\n",
              "      <td>Black</td>\n",
              "      <td>Male</td>\n",
              "      <td>26.0</td>\n",
              "      <td>Offensive Language</td>\n",
              "      <td>67.0</td>\n",
              "      <td>9</td>\n",
              "    </tr>\n",
              "    <tr>\n",
              "      <th>3</th>\n",
              "      <td>Police Officer</td>\n",
              "      <td>White</td>\n",
              "      <td>M</td>\n",
              "      <td>25</td>\n",
              "      <td>Black</td>\n",
              "      <td>Male</td>\n",
              "      <td>45.0</td>\n",
              "      <td>Abuse of Authority</td>\n",
              "      <td>67.0</td>\n",
              "      <td>14</td>\n",
              "    </tr>\n",
              "    <tr>\n",
              "      <th>5</th>\n",
              "      <td>Sergeant</td>\n",
              "      <td>Black</td>\n",
              "      <td>F</td>\n",
              "      <td>50</td>\n",
              "      <td>White</td>\n",
              "      <td>Male</td>\n",
              "      <td>31.0</td>\n",
              "      <td>Abuse of Authority</td>\n",
              "      <td>78.0</td>\n",
              "      <td>5</td>\n",
              "    </tr>\n",
              "  </tbody>\n",
              "</table>\n",
              "</div>"
            ],
            "text/plain": [
              "    rank_incident mos_ethnicity  ... precinct  Total_Months\n",
              "0  Police Officer      Hispanic  ...     78.0            10\n",
              "1  Police Officer         White  ...     67.0             9\n",
              "2  Police Officer         White  ...     67.0             9\n",
              "3  Police Officer         White  ...     67.0            14\n",
              "5        Sergeant         Black  ...     78.0             5\n",
              "\n",
              "[5 rows x 10 columns]"
            ]
          },
          "metadata": {
            "tags": []
          },
          "execution_count": 17
        }
      ]
    },
    {
      "cell_type": "code",
      "metadata": {
        "id": "Kw-07YNEmjZe",
        "colab_type": "code",
        "colab": {
          "base_uri": "https://localhost:8080/",
          "height": 204
        },
        "outputId": "3fbd2ea8-2bd7-4a8c-cfe6-6e4503c722f1"
      },
      "source": [
        "ml_data.dtypes"
      ],
      "execution_count": 18,
      "outputs": [
        {
          "output_type": "execute_result",
          "data": {
            "text/plain": [
              "rank_incident                object\n",
              "mos_ethnicity                object\n",
              "mos_gender                   object\n",
              "mos_age_incident              int64\n",
              "complainant_ethnicity        object\n",
              "complainant_gender           object\n",
              "complainant_age_incident    float64\n",
              "fado_type                    object\n",
              "precinct                    float64\n",
              "Total_Months                  int64\n",
              "dtype: object"
            ]
          },
          "metadata": {
            "tags": []
          },
          "execution_count": 18
        }
      ]
    },
    {
      "cell_type": "code",
      "metadata": {
        "id": "QToRVi_4okDL",
        "colab_type": "code",
        "colab": {}
      },
      "source": [
        "for column in ['rank_incident', 'mos_ethnicity', 'mos_gender', 'complainant_gender', 'complainant_ethnicity', 'fado_type', 'precinct']:\n",
        "  ml_data[column] = ml_data[column].astype('category')"
      ],
      "execution_count": 19,
      "outputs": []
    },
    {
      "cell_type": "code",
      "metadata": {
        "id": "Ld-GW3w-Rer7",
        "colab_type": "code",
        "colab": {
          "base_uri": "https://localhost:8080/",
          "height": 136
        },
        "outputId": "80b11c65-58da-4d80-9b38-cdfceb5cebc7"
      },
      "source": [
        "ml_data['complainant_gender'].value_counts()"
      ],
      "execution_count": 20,
      "outputs": [
        {
          "output_type": "execute_result",
          "data": {
            "text/plain": [
              "Male                     23395\n",
              "Female                    4844\n",
              "Not described               33\n",
              "Transwoman (MTF)            20\n",
              "Transman (FTM)               5\n",
              "Gender non-conforming        2\n",
              "Name: complainant_gender, dtype: int64"
            ]
          },
          "metadata": {
            "tags": []
          },
          "execution_count": 20
        }
      ]
    },
    {
      "cell_type": "code",
      "metadata": {
        "id": "yC5s7JPvtGHh",
        "colab_type": "code",
        "colab": {
          "base_uri": "https://localhost:8080/",
          "height": 204
        },
        "outputId": "ce845ed4-a5ef-40f3-d7ab-5e242cecac3c"
      },
      "source": [
        "ml_data.head()"
      ],
      "execution_count": 21,
      "outputs": [
        {
          "output_type": "execute_result",
          "data": {
            "text/html": [
              "<div>\n",
              "<style scoped>\n",
              "    .dataframe tbody tr th:only-of-type {\n",
              "        vertical-align: middle;\n",
              "    }\n",
              "\n",
              "    .dataframe tbody tr th {\n",
              "        vertical-align: top;\n",
              "    }\n",
              "\n",
              "    .dataframe thead th {\n",
              "        text-align: right;\n",
              "    }\n",
              "</style>\n",
              "<table border=\"1\" class=\"dataframe\">\n",
              "  <thead>\n",
              "    <tr style=\"text-align: right;\">\n",
              "      <th></th>\n",
              "      <th>rank_incident</th>\n",
              "      <th>mos_ethnicity</th>\n",
              "      <th>mos_gender</th>\n",
              "      <th>mos_age_incident</th>\n",
              "      <th>complainant_ethnicity</th>\n",
              "      <th>complainant_gender</th>\n",
              "      <th>complainant_age_incident</th>\n",
              "      <th>fado_type</th>\n",
              "      <th>precinct</th>\n",
              "      <th>Total_Months</th>\n",
              "    </tr>\n",
              "  </thead>\n",
              "  <tbody>\n",
              "    <tr>\n",
              "      <th>0</th>\n",
              "      <td>Police Officer</td>\n",
              "      <td>Hispanic</td>\n",
              "      <td>M</td>\n",
              "      <td>32</td>\n",
              "      <td>Black</td>\n",
              "      <td>Female</td>\n",
              "      <td>38.0</td>\n",
              "      <td>Abuse of Authority</td>\n",
              "      <td>78.0</td>\n",
              "      <td>10</td>\n",
              "    </tr>\n",
              "    <tr>\n",
              "      <th>1</th>\n",
              "      <td>Police Officer</td>\n",
              "      <td>White</td>\n",
              "      <td>M</td>\n",
              "      <td>24</td>\n",
              "      <td>Black</td>\n",
              "      <td>Male</td>\n",
              "      <td>26.0</td>\n",
              "      <td>Discourtesy</td>\n",
              "      <td>67.0</td>\n",
              "      <td>9</td>\n",
              "    </tr>\n",
              "    <tr>\n",
              "      <th>2</th>\n",
              "      <td>Police Officer</td>\n",
              "      <td>White</td>\n",
              "      <td>M</td>\n",
              "      <td>24</td>\n",
              "      <td>Black</td>\n",
              "      <td>Male</td>\n",
              "      <td>26.0</td>\n",
              "      <td>Offensive Language</td>\n",
              "      <td>67.0</td>\n",
              "      <td>9</td>\n",
              "    </tr>\n",
              "    <tr>\n",
              "      <th>3</th>\n",
              "      <td>Police Officer</td>\n",
              "      <td>White</td>\n",
              "      <td>M</td>\n",
              "      <td>25</td>\n",
              "      <td>Black</td>\n",
              "      <td>Male</td>\n",
              "      <td>45.0</td>\n",
              "      <td>Abuse of Authority</td>\n",
              "      <td>67.0</td>\n",
              "      <td>14</td>\n",
              "    </tr>\n",
              "    <tr>\n",
              "      <th>5</th>\n",
              "      <td>Sergeant</td>\n",
              "      <td>Black</td>\n",
              "      <td>F</td>\n",
              "      <td>50</td>\n",
              "      <td>White</td>\n",
              "      <td>Male</td>\n",
              "      <td>31.0</td>\n",
              "      <td>Abuse of Authority</td>\n",
              "      <td>78.0</td>\n",
              "      <td>5</td>\n",
              "    </tr>\n",
              "  </tbody>\n",
              "</table>\n",
              "</div>"
            ],
            "text/plain": [
              "    rank_incident mos_ethnicity  ... precinct  Total_Months\n",
              "0  Police Officer      Hispanic  ...     78.0            10\n",
              "1  Police Officer         White  ...     67.0             9\n",
              "2  Police Officer         White  ...     67.0             9\n",
              "3  Police Officer         White  ...     67.0            14\n",
              "5        Sergeant         Black  ...     78.0             5\n",
              "\n",
              "[5 rows x 10 columns]"
            ]
          },
          "metadata": {
            "tags": []
          },
          "execution_count": 21
        }
      ]
    },
    {
      "cell_type": "code",
      "metadata": {
        "id": "1ikNCM6qQkdR",
        "colab_type": "code",
        "colab": {
          "base_uri": "https://localhost:8080/",
          "height": 102
        },
        "outputId": "3508c699-d8c6-4260-fe34-d8f6b7d474ec"
      },
      "source": [
        "ml_data['fado_type'].value_counts()"
      ],
      "execution_count": 22,
      "outputs": [
        {
          "output_type": "execute_result",
          "data": {
            "text/plain": [
              "Abuse of Authority    16837\n",
              "Force                  6683\n",
              "Discourtesy            4143\n",
              "Offensive Language      636\n",
              "Name: fado_type, dtype: int64"
            ]
          },
          "metadata": {
            "tags": []
          },
          "execution_count": 22
        }
      ]
    },
    {
      "cell_type": "code",
      "metadata": {
        "id": "hP2maN_MW2YJ",
        "colab_type": "code",
        "colab": {
          "base_uri": "https://localhost:8080/",
          "height": 170
        },
        "outputId": "49b6089b-bf4b-4ec4-898d-48900f6c6e74"
      },
      "source": [
        "ml_data['complainant_ethnicity'].value_counts()"
      ],
      "execution_count": 23,
      "outputs": [
        {
          "output_type": "execute_result",
          "data": {
            "text/plain": [
              "Black              16882\n",
              "Hispanic            6332\n",
              "White               2740\n",
              "Unknown              830\n",
              "Other Race           675\n",
              "Asian                524\n",
              "Refused              252\n",
              "American Indian       64\n",
              "Name: complainant_ethnicity, dtype: int64"
            ]
          },
          "metadata": {
            "tags": []
          },
          "execution_count": 23
        }
      ]
    },
    {
      "cell_type": "code",
      "metadata": {
        "id": "UEGHYSy_W5aI",
        "colab_type": "code",
        "colab": {}
      },
      "source": [
        "ethnicity_mapping = {\n",
        "    'Black': 0,\n",
        "    'Asian': 1,\n",
        "    'Hispanic': 2,\n",
        "    'White': 3,\n",
        "    'American Indian': 4,\n",
        "    'Refused': 5,\n",
        "    'Other Race': 6,\n",
        "    'Unknown': 7\n",
        "}\n",
        "\n",
        "gender_mapping_complainant = {\n",
        "    'Male': 0,\n",
        "    'Female': 1,\n",
        "    'Not described': 2,\n",
        "    'Transwoman (MTF)': 3,\n",
        "    'Transman (FTM)': 4,\n",
        "    'Gender non-conforming': 5\n",
        "}\n",
        "\n",
        "gender_mapping_mos = {\n",
        "    'M': 0,\n",
        "    'F': 1\n",
        "}\n",
        "\n",
        "rank_mapping = {'Police Officer': 0,\n",
        "                'Sergeant': 1,\n",
        "                'Detective': 2,\n",
        "                'Lieutenant': 3,\n",
        "                'Captain': 4,\n",
        "                'Deputy Inspector': 5,\n",
        "                'Inspector': 6,\n",
        "                'Chiefs and other ranks': 7\n",
        "                }\n",
        "\n",
        "fado_mapping = {\n",
        "    'Abuse of Authority': 0,\n",
        "    'Force': 1,\n",
        "    'Discourtesy': 2,\n",
        "    'Offensive Language': 3\n",
        "}"
      ],
      "execution_count": 24,
      "outputs": []
    },
    {
      "cell_type": "code",
      "metadata": {
        "id": "AhuY6HMxXba0",
        "colab_type": "code",
        "colab": {}
      },
      "source": [
        "ml_data['complainant_ethnicity'] = ml_data['complainant_ethnicity'].map(ethnicity_mapping)\n",
        "ml_data['complainant_gender'] = ml_data['complainant_gender'].map(gender_mapping_complainant)\n",
        "ml_data['fado_type'] = ml_data['fado_type'].map(fado_mapping)\n",
        "ml_data['rank_incident'] = ml_data['rank_incident'].map(rank_mapping)\n",
        "ml_data['mos_ethnicity'] = ml_data['mos_ethnicity'].map(ethnicity_mapping)\n",
        "ml_data['mos_gender'] = ml_data['mos_gender'].map(gender_mapping_mos)"
      ],
      "execution_count": 25,
      "outputs": []
    },
    {
      "cell_type": "code",
      "metadata": {
        "id": "bjnsDHX8Xg55",
        "colab_type": "code",
        "colab": {
          "base_uri": "https://localhost:8080/",
          "height": 204
        },
        "outputId": "67eb500d-0fe3-40d6-fa6b-e922d53778f4"
      },
      "source": [
        "ml_data.head()"
      ],
      "execution_count": 26,
      "outputs": [
        {
          "output_type": "execute_result",
          "data": {
            "text/html": [
              "<div>\n",
              "<style scoped>\n",
              "    .dataframe tbody tr th:only-of-type {\n",
              "        vertical-align: middle;\n",
              "    }\n",
              "\n",
              "    .dataframe tbody tr th {\n",
              "        vertical-align: top;\n",
              "    }\n",
              "\n",
              "    .dataframe thead th {\n",
              "        text-align: right;\n",
              "    }\n",
              "</style>\n",
              "<table border=\"1\" class=\"dataframe\">\n",
              "  <thead>\n",
              "    <tr style=\"text-align: right;\">\n",
              "      <th></th>\n",
              "      <th>rank_incident</th>\n",
              "      <th>mos_ethnicity</th>\n",
              "      <th>mos_gender</th>\n",
              "      <th>mos_age_incident</th>\n",
              "      <th>complainant_ethnicity</th>\n",
              "      <th>complainant_gender</th>\n",
              "      <th>complainant_age_incident</th>\n",
              "      <th>fado_type</th>\n",
              "      <th>precinct</th>\n",
              "      <th>Total_Months</th>\n",
              "    </tr>\n",
              "  </thead>\n",
              "  <tbody>\n",
              "    <tr>\n",
              "      <th>0</th>\n",
              "      <td>0</td>\n",
              "      <td>2</td>\n",
              "      <td>0</td>\n",
              "      <td>32</td>\n",
              "      <td>0</td>\n",
              "      <td>1</td>\n",
              "      <td>38.0</td>\n",
              "      <td>0</td>\n",
              "      <td>78.0</td>\n",
              "      <td>10</td>\n",
              "    </tr>\n",
              "    <tr>\n",
              "      <th>1</th>\n",
              "      <td>0</td>\n",
              "      <td>3</td>\n",
              "      <td>0</td>\n",
              "      <td>24</td>\n",
              "      <td>0</td>\n",
              "      <td>0</td>\n",
              "      <td>26.0</td>\n",
              "      <td>2</td>\n",
              "      <td>67.0</td>\n",
              "      <td>9</td>\n",
              "    </tr>\n",
              "    <tr>\n",
              "      <th>2</th>\n",
              "      <td>0</td>\n",
              "      <td>3</td>\n",
              "      <td>0</td>\n",
              "      <td>24</td>\n",
              "      <td>0</td>\n",
              "      <td>0</td>\n",
              "      <td>26.0</td>\n",
              "      <td>3</td>\n",
              "      <td>67.0</td>\n",
              "      <td>9</td>\n",
              "    </tr>\n",
              "    <tr>\n",
              "      <th>3</th>\n",
              "      <td>0</td>\n",
              "      <td>3</td>\n",
              "      <td>0</td>\n",
              "      <td>25</td>\n",
              "      <td>0</td>\n",
              "      <td>0</td>\n",
              "      <td>45.0</td>\n",
              "      <td>0</td>\n",
              "      <td>67.0</td>\n",
              "      <td>14</td>\n",
              "    </tr>\n",
              "    <tr>\n",
              "      <th>5</th>\n",
              "      <td>1</td>\n",
              "      <td>0</td>\n",
              "      <td>1</td>\n",
              "      <td>50</td>\n",
              "      <td>3</td>\n",
              "      <td>0</td>\n",
              "      <td>31.0</td>\n",
              "      <td>0</td>\n",
              "      <td>78.0</td>\n",
              "      <td>5</td>\n",
              "    </tr>\n",
              "  </tbody>\n",
              "</table>\n",
              "</div>"
            ],
            "text/plain": [
              "  rank_incident mos_ethnicity mos_gender  ...  fado_type precinct Total_Months\n",
              "0             0             2          0  ...          0     78.0           10\n",
              "1             0             3          0  ...          2     67.0            9\n",
              "2             0             3          0  ...          3     67.0            9\n",
              "3             0             3          0  ...          0     67.0           14\n",
              "5             1             0          1  ...          0     78.0            5\n",
              "\n",
              "[5 rows x 10 columns]"
            ]
          },
          "metadata": {
            "tags": []
          },
          "execution_count": 26
        }
      ]
    },
    {
      "cell_type": "code",
      "metadata": {
        "id": "oM6VJtY_e-AV",
        "colab_type": "code",
        "colab": {
          "base_uri": "https://localhost:8080/",
          "height": 204
        },
        "outputId": "178740ee-c17c-46c2-b432-a5c8dd78b37b"
      },
      "source": [
        "ml_data.dtypes"
      ],
      "execution_count": 27,
      "outputs": [
        {
          "output_type": "execute_result",
          "data": {
            "text/plain": [
              "rank_incident               category\n",
              "mos_ethnicity               category\n",
              "mos_gender                  category\n",
              "mos_age_incident               int64\n",
              "complainant_ethnicity       category\n",
              "complainant_gender          category\n",
              "complainant_age_incident     float64\n",
              "fado_type                   category\n",
              "precinct                    category\n",
              "Total_Months                   int64\n",
              "dtype: object"
            ]
          },
          "metadata": {
            "tags": []
          },
          "execution_count": 27
        }
      ]
    },
    {
      "cell_type": "code",
      "metadata": {
        "id": "oAx7VqO8fLeq",
        "colab_type": "code",
        "colab": {}
      },
      "source": [
        "ml_data['complainant_gender'] = ml_data['complainant_gender'].astype(int)"
      ],
      "execution_count": 28,
      "outputs": []
    },
    {
      "cell_type": "code",
      "metadata": {
        "id": "MMq9Tm2MgH9s",
        "colab_type": "code",
        "colab": {
          "base_uri": "https://localhost:8080/",
          "height": 204
        },
        "outputId": "88a30d42-6035-4bfb-d03d-f3096c51919d"
      },
      "source": [
        "ml_data.head()"
      ],
      "execution_count": 29,
      "outputs": [
        {
          "output_type": "execute_result",
          "data": {
            "text/html": [
              "<div>\n",
              "<style scoped>\n",
              "    .dataframe tbody tr th:only-of-type {\n",
              "        vertical-align: middle;\n",
              "    }\n",
              "\n",
              "    .dataframe tbody tr th {\n",
              "        vertical-align: top;\n",
              "    }\n",
              "\n",
              "    .dataframe thead th {\n",
              "        text-align: right;\n",
              "    }\n",
              "</style>\n",
              "<table border=\"1\" class=\"dataframe\">\n",
              "  <thead>\n",
              "    <tr style=\"text-align: right;\">\n",
              "      <th></th>\n",
              "      <th>rank_incident</th>\n",
              "      <th>mos_ethnicity</th>\n",
              "      <th>mos_gender</th>\n",
              "      <th>mos_age_incident</th>\n",
              "      <th>complainant_ethnicity</th>\n",
              "      <th>complainant_gender</th>\n",
              "      <th>complainant_age_incident</th>\n",
              "      <th>fado_type</th>\n",
              "      <th>precinct</th>\n",
              "      <th>Total_Months</th>\n",
              "    </tr>\n",
              "  </thead>\n",
              "  <tbody>\n",
              "    <tr>\n",
              "      <th>0</th>\n",
              "      <td>0</td>\n",
              "      <td>2</td>\n",
              "      <td>0</td>\n",
              "      <td>32</td>\n",
              "      <td>0</td>\n",
              "      <td>1</td>\n",
              "      <td>38.0</td>\n",
              "      <td>0</td>\n",
              "      <td>78.0</td>\n",
              "      <td>10</td>\n",
              "    </tr>\n",
              "    <tr>\n",
              "      <th>1</th>\n",
              "      <td>0</td>\n",
              "      <td>3</td>\n",
              "      <td>0</td>\n",
              "      <td>24</td>\n",
              "      <td>0</td>\n",
              "      <td>0</td>\n",
              "      <td>26.0</td>\n",
              "      <td>2</td>\n",
              "      <td>67.0</td>\n",
              "      <td>9</td>\n",
              "    </tr>\n",
              "    <tr>\n",
              "      <th>2</th>\n",
              "      <td>0</td>\n",
              "      <td>3</td>\n",
              "      <td>0</td>\n",
              "      <td>24</td>\n",
              "      <td>0</td>\n",
              "      <td>0</td>\n",
              "      <td>26.0</td>\n",
              "      <td>3</td>\n",
              "      <td>67.0</td>\n",
              "      <td>9</td>\n",
              "    </tr>\n",
              "    <tr>\n",
              "      <th>3</th>\n",
              "      <td>0</td>\n",
              "      <td>3</td>\n",
              "      <td>0</td>\n",
              "      <td>25</td>\n",
              "      <td>0</td>\n",
              "      <td>0</td>\n",
              "      <td>45.0</td>\n",
              "      <td>0</td>\n",
              "      <td>67.0</td>\n",
              "      <td>14</td>\n",
              "    </tr>\n",
              "    <tr>\n",
              "      <th>5</th>\n",
              "      <td>1</td>\n",
              "      <td>0</td>\n",
              "      <td>1</td>\n",
              "      <td>50</td>\n",
              "      <td>3</td>\n",
              "      <td>0</td>\n",
              "      <td>31.0</td>\n",
              "      <td>0</td>\n",
              "      <td>78.0</td>\n",
              "      <td>5</td>\n",
              "    </tr>\n",
              "  </tbody>\n",
              "</table>\n",
              "</div>"
            ],
            "text/plain": [
              "  rank_incident mos_ethnicity mos_gender  ...  fado_type precinct  Total_Months\n",
              "0             0             2          0  ...          0     78.0            10\n",
              "1             0             3          0  ...          2     67.0             9\n",
              "2             0             3          0  ...          3     67.0             9\n",
              "3             0             3          0  ...          0     67.0            14\n",
              "5             1             0          1  ...          0     78.0             5\n",
              "\n",
              "[5 rows x 10 columns]"
            ]
          },
          "metadata": {
            "tags": []
          },
          "execution_count": 29
        }
      ]
    },
    {
      "cell_type": "code",
      "metadata": {
        "id": "t9HcgWN_gLHZ",
        "colab_type": "code",
        "colab": {
          "base_uri": "https://localhost:8080/",
          "height": 221
        },
        "outputId": "6c9915dd-f366-4bb7-bd2a-03fdbd1b0fcb"
      },
      "source": [
        "ml_data['precinct'].value_counts()"
      ],
      "execution_count": 30,
      "outputs": [
        {
          "output_type": "execute_result",
          "data": {
            "text/plain": [
              "75.0      1784\n",
              "73.0      1001\n",
              "44.0       991\n",
              "79.0       950\n",
              "46.0       942\n",
              "          ... \n",
              "17.0        70\n",
              "111.0       31\n",
              "22.0        12\n",
              "1000.0       3\n",
              "0.0          2\n",
              "Name: precinct, Length: 79, dtype: int64"
            ]
          },
          "metadata": {
            "tags": []
          },
          "execution_count": 30
        }
      ]
    },
    {
      "cell_type": "code",
      "metadata": {
        "id": "XLaZBJF-g1Ww",
        "colab_type": "code",
        "colab": {}
      },
      "source": [
        "import lightgbm as lgb\n",
        "from lightgbm import *"
      ],
      "execution_count": 51,
      "outputs": []
    },
    {
      "cell_type": "code",
      "metadata": {
        "id": "tXnOCis8hOQl",
        "colab_type": "code",
        "colab": {}
      },
      "source": [
        "X = ml_data.drop(['Total_Months'], axis=1)\n",
        "Y = ml_data['Total_Months']"
      ],
      "execution_count": 32,
      "outputs": []
    },
    {
      "cell_type": "code",
      "metadata": {
        "id": "DnA3aXBoiusY",
        "colab_type": "code",
        "colab": {}
      },
      "source": [
        "X_train, X_test, Y_train, Y_test = train_test_split(X, Y, test_size = 0.2, shuffle=True)"
      ],
      "execution_count": 35,
      "outputs": []
    },
    {
      "cell_type": "code",
      "metadata": {
        "id": "LVxVm4t3mG08",
        "colab_type": "code",
        "colab": {}
      },
      "source": [
        "scaler = StandardScaler()"
      ],
      "execution_count": 36,
      "outputs": []
    },
    {
      "cell_type": "code",
      "metadata": {
        "id": "TSitoBJ8mJev",
        "colab_type": "code",
        "colab": {}
      },
      "source": [
        "scaler.fit(X_train)\n",
        "\n",
        "X_train = pd.DataFrame(scaler.transform(X_train))\n",
        "X_test = pd.DataFrame(scaler.transform(X_test))\n",
        "\n",
        "Y_train = pd.DataFrame(np.log(Y_train))\n",
        "Y_test = pd.DataFrame(np.log(Y_test))"
      ],
      "execution_count": 37,
      "outputs": []
    },
    {
      "cell_type": "code",
      "metadata": {
        "id": "l5Tk4ssOkTMl",
        "colab_type": "code",
        "colab": {}
      },
      "source": [
        "lgb_train = lgb.Dataset(X_train, Y_train)\n",
        "lgb_eval = lgb.Dataset(X_test, Y_test, reference=lgb_train)"
      ],
      "execution_count": 38,
      "outputs": []
    },
    {
      "cell_type": "code",
      "metadata": {
        "id": "ZXRPD4MRjA3Q",
        "colab_type": "code",
        "colab": {}
      },
      "source": [
        "reg = lgb.LGBMRegressor(reg_lambda=1.0, random_state=0)"
      ],
      "execution_count": 39,
      "outputs": []
    },
    {
      "cell_type": "code",
      "metadata": {
        "id": "8ti1p_fzkobf",
        "colab_type": "code",
        "colab": {}
      },
      "source": [
        "params = {\n",
        "    'boosting_type': 'gbdt',\n",
        "    'objective': 'regression',\n",
        "    'metric': {'l2', 'l1'},\n",
        "    'verbose': 1,\n",
        "    'reg_lambda': 1.0,\n",
        "    'random_state': 0}"
      ],
      "execution_count": 40,
      "outputs": []
    },
    {
      "cell_type": "code",
      "metadata": {
        "id": "3Rkw0vxCjJrQ",
        "colab_type": "code",
        "colab": {
          "base_uri": "https://localhost:8080/",
          "height": 425
        },
        "outputId": "ab49d7f7-36a3-4fda-c588-c5e9699a3bd7"
      },
      "source": [
        "print('Starting training...')\n",
        "# train\n",
        "gbm = lgb.train(params,\n",
        "                lgb_train,\n",
        "                num_boost_round=20,\n",
        "                valid_sets=lgb_eval,\n",
        "                early_stopping_rounds=5)"
      ],
      "execution_count": 41,
      "outputs": [
        {
          "output_type": "stream",
          "text": [
            "Starting training...\n",
            "[1]\tvalid_0's l2: 0.233475\tvalid_0's l1: 0.397114\n",
            "Training until validation scores don't improve for 5 rounds.\n",
            "[2]\tvalid_0's l2: 0.231863\tvalid_0's l1: 0.395715\n",
            "[3]\tvalid_0's l2: 0.230417\tvalid_0's l1: 0.394591\n",
            "[4]\tvalid_0's l2: 0.229126\tvalid_0's l1: 0.393406\n",
            "[5]\tvalid_0's l2: 0.228093\tvalid_0's l1: 0.392475\n",
            "[6]\tvalid_0's l2: 0.227074\tvalid_0's l1: 0.391527\n",
            "[7]\tvalid_0's l2: 0.226013\tvalid_0's l1: 0.390666\n",
            "[8]\tvalid_0's l2: 0.225174\tvalid_0's l1: 0.389914\n",
            "[9]\tvalid_0's l2: 0.224505\tvalid_0's l1: 0.389326\n",
            "[10]\tvalid_0's l2: 0.223878\tvalid_0's l1: 0.388753\n",
            "[11]\tvalid_0's l2: 0.223261\tvalid_0's l1: 0.388181\n",
            "[12]\tvalid_0's l2: 0.222521\tvalid_0's l1: 0.387499\n",
            "[13]\tvalid_0's l2: 0.221938\tvalid_0's l1: 0.38695\n",
            "[14]\tvalid_0's l2: 0.221346\tvalid_0's l1: 0.386388\n",
            "[15]\tvalid_0's l2: 0.220594\tvalid_0's l1: 0.385685\n",
            "[16]\tvalid_0's l2: 0.219877\tvalid_0's l1: 0.384925\n",
            "[17]\tvalid_0's l2: 0.219342\tvalid_0's l1: 0.384537\n",
            "[18]\tvalid_0's l2: 0.218759\tvalid_0's l1: 0.383987\n",
            "[19]\tvalid_0's l2: 0.218361\tvalid_0's l1: 0.383492\n",
            "[20]\tvalid_0's l2: 0.217949\tvalid_0's l1: 0.383117\n",
            "Did not meet early stopping. Best iteration is:\n",
            "[20]\tvalid_0's l2: 0.217949\tvalid_0's l1: 0.383117\n"
          ],
          "name": "stdout"
        }
      ]
    },
    {
      "cell_type": "code",
      "metadata": {
        "id": "mcRC9VR2kibv",
        "colab_type": "code",
        "colab": {}
      },
      "source": [
        "y_pred = gbm.predict(X_test, num_iteration=gbm.best_iteration)"
      ],
      "execution_count": 42,
      "outputs": []
    },
    {
      "cell_type": "code",
      "metadata": {
        "id": "Yp1tee_jk8o5",
        "colab_type": "code",
        "colab": {
          "base_uri": "https://localhost:8080/",
          "height": 34
        },
        "outputId": "cb6be3c6-5387-4e74-acf5-e8fb1ee39aa6"
      },
      "source": [
        "print('The rmse of prediction is:', mean_squared_error(Y_test, y_pred) ** 0.5)"
      ],
      "execution_count": 43,
      "outputs": [
        {
          "output_type": "stream",
          "text": [
            "The rmse of prediction is: 0.46684959782850444\n"
          ],
          "name": "stdout"
        }
      ]
    },
    {
      "cell_type": "code",
      "metadata": {
        "id": "j6wCwG8fk_Gb",
        "colab_type": "code",
        "colab": {
          "base_uri": "https://localhost:8080/",
          "height": 180
        },
        "outputId": "70341fa0-c3ba-4248-f2da-978a990b2899"
      },
      "source": [
        "fn = 'model.txt'\n",
        "lgb.Booster.save_model(filename=fn)"
      ],
      "execution_count": 58,
      "outputs": [
        {
          "output_type": "error",
          "ename": "TypeError",
          "evalue": "ignored",
          "traceback": [
            "\u001b[0;31m---------------------------------------------------------------------------\u001b[0m",
            "\u001b[0;31mTypeError\u001b[0m                                 Traceback (most recent call last)",
            "\u001b[0;32m<ipython-input-58-195415bdda06>\u001b[0m in \u001b[0;36m<module>\u001b[0;34m()\u001b[0m\n\u001b[1;32m      1\u001b[0m \u001b[0mfn\u001b[0m \u001b[0;34m=\u001b[0m \u001b[0;34m'model.txt'\u001b[0m\u001b[0;34m\u001b[0m\u001b[0;34m\u001b[0m\u001b[0m\n\u001b[0;32m----> 2\u001b[0;31m \u001b[0mlgb\u001b[0m\u001b[0;34m.\u001b[0m\u001b[0mBooster\u001b[0m\u001b[0;34m.\u001b[0m\u001b[0msave_model\u001b[0m\u001b[0;34m(\u001b[0m\u001b[0mfilename\u001b[0m\u001b[0;34m=\u001b[0m\u001b[0mfn\u001b[0m\u001b[0;34m)\u001b[0m\u001b[0;34m\u001b[0m\u001b[0;34m\u001b[0m\u001b[0m\n\u001b[0m",
            "\u001b[0;31mTypeError\u001b[0m: save_model() missing 1 required positional argument: 'self'"
          ]
        }
      ]
    },
    {
      "cell_type": "code",
      "metadata": {
        "id": "JoOxoFVN3-Vf",
        "colab_type": "code",
        "colab": {
          "base_uri": "https://localhost:8080/",
          "height": 34
        },
        "outputId": "e5563fc7-c936-45ce-eaf2-50332c06ab41"
      },
      "source": [
        "gbm.save_model('lgb_classifier.txt', num_iteration=gbm.best_iteration)"
      ],
      "execution_count": 76,
      "outputs": [
        {
          "output_type": "execute_result",
          "data": {
            "text/plain": [
              "<lightgbm.basic.Booster at 0x7f35592ddc88>"
            ]
          },
          "metadata": {
            "tags": []
          },
          "execution_count": 76
        }
      ]
    },
    {
      "cell_type": "code",
      "metadata": {
        "id": "wHevJ-836klz",
        "colab_type": "code",
        "colab": {}
      },
      "source": [
        ""
      ],
      "execution_count": 71,
      "outputs": []
    }
  ]
}